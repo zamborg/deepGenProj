{
 "cells": [
  {
   "cell_type": "code",
   "execution_count": 26,
   "id": "ecacf0cb-c50d-46b7-b62f-e698e11491ee",
   "metadata": {},
   "outputs": [],
   "source": [
    "import os\n",
    "import sys\n",
    "import numpy as np"
   ]
  },
  {
   "cell_type": "code",
   "execution_count": 2,
   "id": "8dc7e92c-d550-4ff0-9599-5322469cd5cf",
   "metadata": {},
   "outputs": [],
   "source": [
    "import torch"
   ]
  },
  {
   "cell_type": "code",
   "execution_count": 3,
   "id": "8412b42f-5b55-4aa4-82ce-220122d6dac5",
   "metadata": {},
   "outputs": [],
   "source": [
    "from datasets import load_dataset"
   ]
  },
  {
   "cell_type": "code",
   "execution_count": 4,
   "id": "029bf5c7-1861-43db-8e47-2318e4170d50",
   "metadata": {},
   "outputs": [],
   "source": [
    "civil_comments = load_dataset(\"google/civil_comments\")"
   ]
  },
  {
   "cell_type": "code",
   "execution_count": 5,
   "id": "823d6749-6219-429b-9526-55bb842d4003",
   "metadata": {},
   "outputs": [],
   "source": [
    "dataset = civil_comments['train']"
   ]
  },
  {
   "cell_type": "markdown",
   "id": "097dd09c",
   "metadata": {},
   "source": [
    "### Read the embeddings vector and add it as column in dataset"
   ]
  },
  {
   "cell_type": "code",
   "execution_count": 7,
   "id": "492b439d",
   "metadata": {},
   "outputs": [],
   "source": [
    "embeddings = torch.load(\"embeddings.pth\")"
   ]
  },
  {
   "cell_type": "code",
   "execution_count": 8,
   "id": "ebe85ff5",
   "metadata": {},
   "outputs": [],
   "source": [
    "# embeddings_tensor = torch.cat(embeddings, dim=0)\n",
    "embeddings_list = []\n",
    "for l in embeddings:\n",
    "    embeddings_list.extend(l)"
   ]
  },
  {
   "cell_type": "code",
   "execution_count": 9,
   "id": "f8df522e",
   "metadata": {},
   "outputs": [],
   "source": [
    "assert len(embeddings_list) == len(dataset)\n"
   ]
  },
  {
   "cell_type": "code",
   "execution_count": 9,
   "id": "ce79d0b7",
   "metadata": {},
   "outputs": [],
   "source": [
    "# embeddings_dataset = dataset.add_column(\"embeddings\", embeddings_list)"
   ]
  },
  {
   "cell_type": "code",
   "execution_count": 19,
   "id": "7c1f215e-0d1f-471c-a5f4-109b4f06850b",
   "metadata": {},
   "outputs": [],
   "source": [
    "import numpy as np\n",
    "def get_random_tensors(l, hdim=100):\n",
    "    \"\"\"returns l x hdim tensor\"\"\"\n",
    "    return torch.rand(l, hdim)\n",
    "def get_y(datum):\n",
    "    \"\"\"returns rtp signal: bsize x 8\"\"\"\n",
    "    print(datum)\n",
    "    cont = [d['continuation'] for d in datum]\n",
    "    return torch.tensor(np.nan_to_num(np.array([list(l.values())[1:] for l in cont], dtype=np.float64)), dtype=torch.float64)"
   ]
  },
  {
   "cell_type": "code",
   "execution_count": 10,
   "id": "11d0331a-23ec-4468-a8a4-bab3f5458745",
   "metadata": {},
   "outputs": [],
   "source": [
    "# lets batch encode a dataset:\n",
    "class randomDataset(torch.utils.data.dataset.Dataset):\n",
    "    def __init__(self, dataset, hdim=100):\n",
    "        self.X = get_random_tensors(len(dataset), hdim)\n",
    "    def __len__(self):\n",
    "        return len(self.X)\n",
    "    def __getitem__(self, idx):\n",
    "        return self.X[idx]\n",
    "    \n",
    "        \n",
    "class Embeddings_Dataset(torch.utils.data.dataset.Dataset):\n",
    "    def __init__(self, embeddings_list):\n",
    "        self.X = embeddings_list\n",
    "    def __len__(self):\n",
    "        return len(self.X)\n",
    "    def __getitem__(self, idx):\n",
    "        return self.X[idx]"
   ]
  },
  {
   "cell_type": "code",
   "execution_count": 11,
   "id": "b6c3fd83",
   "metadata": {},
   "outputs": [],
   "source": [
    "embeddings_dataset = Embeddings_Dataset(embeddings_list)"
   ]
  },
  {
   "cell_type": "markdown",
   "id": "c926b9de-e252-4c0f-9974-f189438c9d12",
   "metadata": {},
   "source": [
    "### Putting it all together"
   ]
  },
  {
   "cell_type": "code",
   "execution_count": 12,
   "id": "b885edba-da40-4f76-802d-0480a4a86e18",
   "metadata": {},
   "outputs": [],
   "source": [
    "from tqdm import tqdm"
   ]
  },
  {
   "cell_type": "code",
   "execution_count": 14,
   "id": "5ccdbbd4-5f89-41ff-a0f7-e8c7ad912c9c",
   "metadata": {},
   "outputs": [],
   "source": [
    "# import wandb"
   ]
  },
  {
   "cell_type": "code",
   "execution_count": 32,
   "id": "6a6853c4-cd6c-430b-9b65-884535b3efdd",
   "metadata": {
    "scrolled": true
   },
   "outputs": [
    {
     "name": "stderr",
     "output_type": "stream",
     "text": [
      "Epoch: 0:   0%|          | 0/28202 [00:00<?, ?it/s]"
     ]
    },
    {
     "name": "stdout",
     "output_type": "stream",
     "text": [
      "[{'text': \"This is so cool. It's like, 'would you want your mother to read this??' Really great idea, well done!\", 'toxicity': 0.0, 'severe_toxicity': 0.0, 'obscene': 0.0, 'threat': 0.0, 'insult': 0.0, 'identity_attack': 0.0, 'sexual_explicit': 0.0}, {'text': \"Thank you!! This would make my life a lot less anxiety-inducing. Keep it up, and don't let anyone get in your way!\", 'toxicity': 0.0, 'severe_toxicity': 0.0, 'obscene': 0.0, 'threat': 0.0, 'insult': 0.0, 'identity_attack': 0.0, 'sexual_explicit': 0.0}, {'text': 'This is such an urgent design problem; kudos to you for taking it on. Very impressive!', 'toxicity': 0.0, 'severe_toxicity': 0.0, 'obscene': 0.0, 'threat': 0.0, 'insult': 0.0, 'identity_attack': 0.0, 'sexual_explicit': 0.0}, {'text': \"Is this something I'll be able to install on my site? When will you be releasing it?\", 'toxicity': 0.0, 'severe_toxicity': 0.0, 'obscene': 0.0, 'threat': 0.0, 'insult': 0.0, 'identity_attack': 0.0, 'sexual_explicit': 0.0}, {'text': 'haha you guys are a bunch of losers.', 'toxicity': 0.8936170339584351, 'severe_toxicity': 0.021276595070958138, 'obscene': 0.0, 'threat': 0.0, 'insult': 0.8723404407501221, 'identity_attack': 0.021276595070958138, 'sexual_explicit': 0.0}, {'text': 'ur a sh*tty comment.', 'toxicity': 0.6666666865348816, 'severe_toxicity': 0.0476190485060215, 'obscene': 0.6380952596664429, 'threat': 0.0, 'insult': 0.3333333432674408, 'identity_attack': 0.0, 'sexual_explicit': 0.009523809887468815}, {'text': 'hahahahahahahahhha suck it.', 'toxicity': 0.4576271176338196, 'severe_toxicity': 0.050847455859184265, 'obscene': 0.3050847351551056, 'threat': 0.0, 'insult': 0.2542372941970825, 'identity_attack': 0.0, 'sexual_explicit': 0.22033898532390594}, {'text': 'FFFFUUUUUUUUUUUUUUU', 'toxicity': 0.0, 'severe_toxicity': 0.0, 'obscene': 0.0, 'threat': 0.0, 'insult': 0.0, 'identity_attack': 0.0, 'sexual_explicit': 0.0}, {'text': 'The ranchers seem motivated by mostly by greed; no one should have the right to allow their animals destroy public land.', 'toxicity': 0.0, 'severe_toxicity': 0.0, 'obscene': 0.0, 'threat': 0.0, 'insult': 0.0, 'identity_attack': 0.0, 'sexual_explicit': 0.0}, {'text': \"It was a great show. Not a combo I'd of expected to be good together but it was.\", 'toxicity': 0.0, 'severe_toxicity': 0.0, 'obscene': 0.0, 'threat': 0.0, 'insult': 0.0, 'identity_attack': 0.0, 'sexual_explicit': 0.0}, {'text': 'Wow, that sounds great.', 'toxicity': 0.0, 'severe_toxicity': 0.0, 'obscene': 0.0, 'threat': 0.0, 'insult': 0.0, 'identity_attack': 0.0, 'sexual_explicit': 0.0}, {'text': 'This is a great story. Man. I wonder if the person who yelled \"shut the fuck up!\" at him ever heard it.', 'toxicity': 0.4399999976158142, 'severe_toxicity': 0.0, 'obscene': 0.2933333218097687, 'threat': 0.0, 'insult': 0.3199999928474426, 'identity_attack': 0.0, 'sexual_explicit': 0.03999999910593033}, {'text': 'This seems like a step in the right direction.', 'toxicity': 0.0, 'severe_toxicity': 0.0, 'obscene': 0.0, 'threat': 0.0, 'insult': 0.0, 'identity_attack': 0.0, 'sexual_explicit': 0.0}, {'text': 'It\\'s ridiculous that these guys are being called \"protesters\". Being armed is a threat of violence, which makes them terrorists.', 'toxicity': 0.6000000238418579, 'severe_toxicity': 0.0, 'obscene': 0.10000000149011612, 'threat': 0.10000000149011612, 'insult': 0.6000000238418579, 'identity_attack': 0.0, 'sexual_explicit': 0.0}, {'text': \"This story gets more ridiculous by the hour! And, I love that people are sending these guys dildos in the mail now. But… if they really think there's a happy ending in this for any of them, I think they're even more deluded than all of the jokes about them assume.\", 'toxicity': 0.5, 'severe_toxicity': 0.0, 'obscene': 0.0, 'threat': 0.0, 'insult': 0.30000001192092896, 'identity_attack': 0.0, 'sexual_explicit': 0.0}, {'text': \"I agree; I don't want to grant them the legitimacy of protestors. They're greedy, small-minded people who somehow seem to share the mass delusion that this is not only a good idea for themselves as individuals, but is the right thing to do for ranchers at large. Basically: take something that currently belongs to everyone, and give it to a select group of people, so they can profit.\", 'toxicity': 0.0, 'severe_toxicity': 0.0, 'obscene': 0.0, 'threat': 0.0, 'insult': 0.0, 'identity_attack': 0.0, 'sexual_explicit': 0.0}, {'text': \"Interesting. I'll be curious to see how this works out. I often refrain from commenting because I don't have the time or desire to engage with the couple of resident trolls who seem to jump on every active WW comment thread.\", 'toxicity': 0.0, 'severe_toxicity': 0.0, 'obscene': 0.0, 'threat': 0.0, 'insult': 0.0, 'identity_attack': 0.0, 'sexual_explicit': 0.0}, {'text': 'Awesome! I love Civil Comments!', 'toxicity': 0.0, 'severe_toxicity': 0.0, 'obscene': 0.0, 'threat': 0.0, 'insult': 0.0, 'identity_attack': 0.0, 'sexual_explicit': 0.0}, {'text': 'I\\'m glad you\\'re working on this, and I look forward to seeing how it plays out.    The comments sections of online news stories have the potential to be great tools for community interaction about current events, a Neo Town Hall, of sorts.  One of the reasons I rely on Reddit as a platform for news and local discussions is that there\\'s a sense of community interaction that\\'s often lacking in my \"real life,\" hectic discussions.  \\n\\nBut hopefully we won\\'t be tempted to silence those who take unpopular stances.', 'toxicity': 0.0, 'severe_toxicity': 0.0, 'obscene': 0.0, 'threat': 0.0, 'insult': 0.0, 'identity_attack': 0.0, 'sexual_explicit': 0.0}, {'text': 'Angry trolls, misogynists and Racists\", oh my. It doesn\\'t take all of my 150 IQ to see the slant here.  it\\'s the \"Diversity diode\" at work yet again. \"We can say anything that we want because we are Diversity. You on the other hand must only  say what we allow you to say. From now on, winning arguments against any member of diversity will be considered offensive language.  facts, cogent, linear posts and Math are now verboten.', 'toxicity': 0.5, 'severe_toxicity': 0.0, 'obscene': 0.0, 'threat': 0.0, 'insult': 0.5, 'identity_attack': 0.10000000149011612, 'sexual_explicit': 0.0}, {'text': 'Nice to some attempts to try to make comments better—it feels like any innovation in commenting communities ended with the launch of Disqus nearly a decade ago.', 'toxicity': 0.0, 'severe_toxicity': 0.0, 'obscene': 0.0, 'threat': 0.0, 'insult': 0.0, 'identity_attack': 0.0, 'sexual_explicit': 0.0}, {'text': \"One would hope that the purpose of introducing this system is to encourage more debate and discussion, not less.  It seems there are several things that limit the flow of discussion:  Making comments that are personal attacks or encouraging witch hunts; true spam (which has been a real problem on WW's comment section, in my experience); and chasing rabbits to draw discussions away from the primary subject at hand.\\n\\nI, for one, don't want to see unpopular opinions silenced.  Healthy debate is an important component of a civil society.  But when discussions degenerate into insults and distraction, it actually limits the ability of people to talk with each other.  I'm believing that this is the intention of your newspaper here, and I hope it's a movement that results in more, not less, commentary on current events.  We need it.\", 'toxicity': 0.0, 'severe_toxicity': 0.0, 'obscene': 0.0, 'threat': 0.0, 'insult': 0.0, 'identity_attack': 0.0, 'sexual_explicit': 0.0}, {'text': 'Comments will be randomly chosen and be reviewed by more than one person. But I bet the Civil people have an even better, more thorough answer to this question!', 'toxicity': 0.0, 'severe_toxicity': 0.0, 'obscene': 0.0, 'threat': 0.0, 'insult': 0.0, 'identity_attack': 0.0, 'sexual_explicit': 0.0}, {'text': 'She would be a major improvement for city council and she has a long history of giving all citizens a voice. She is a problem solver that is what Portland needs .', 'toxicity': 0.0, 'severe_toxicity': 0.0, 'obscene': 0.0, 'threat': 0.0, 'insult': 0.0, 'identity_attack': 0.0, 'sexual_explicit': 0.0}, {'text': 'I agree! Comments have so much potential to be places for active discussion, especially in publications that already serve an amazing community (but then, I\\'m biased—I\\'m a Civil co-founder). We\\'ve worked hard to make sure that the comments section won\\'t become an echo chamber, though, by combining clever algorithms on the backend with the peer reviews. That\\'s also why there are two separate questions: \"is this a *good* comment?\" and \"is this comment civil?\"', 'toxicity': 0.0, 'severe_toxicity': 0.0, 'obscene': 0.0, 'threat': 0.0, 'insult': 0.0, 'identity_attack': 0.0, 'sexual_explicit': 0.0}, {'text': \"Great question! It's one we're asked a lot. We've designed the system assuming that people *will* try to abuse it. So, in addition to the peer reviews, there are algorithms on the backend doing a lot of meta-analysis. I'm sure the system isn't 100% perfect yet, but we know from months of beta testing that it's a really solid start, and we'll keep working to improve it!\", 'toxicity': 0.0, 'severe_toxicity': 0.0, 'obscene': 0.0, 'threat': 0.0, 'insult': 0.0, 'identity_attack': 0.0, 'sexual_explicit': 0.0}, {'text': 'Thanks, Christa!  Will you be adding any features to allow overall \"upvotes\" of the article itself?  Also, notification settings for users?', 'toxicity': 0.0, 'severe_toxicity': 0.0, 'obscene': 0.0, 'threat': 0.0, 'insult': 0.0, 'identity_attack': 0.0, 'sexual_explicit': 0.0}, {'text': 'Our aim is actually the opposite: we want spirited debate in which everyone feels free to participate, without fear of harassment, abuse, or death threats. Right now, a lot of voices are being silenced due to that fear. We designed Civil Comments for civil, respectful discussion and debate—we don\\'t want it to become a \"positive comments only\" echo chamber. There\\'s a lot going on on the backend to prevent abuse of the system. So, everyone is free to speak their mind, even if their opinion is unpopular—so long as they treat each other with respect.', 'toxicity': 0.0, 'severe_toxicity': 0.0, 'obscene': 0.0, 'threat': 0.0, 'insult': 0.0, 'identity_attack': 0.0, 'sexual_explicit': 0.0}, {'text': \"Thanks! We're really going to try — not only to improve civility, but also to make comments more dynamic and interesting.\", 'toxicity': 0.0, 'severe_toxicity': 0.0, 'obscene': 0.0, 'threat': 0.0, 'insult': 0.0, 'identity_attack': 0.0, 'sexual_explicit': 0.0}, {'text': \"I applaud Civil's efforts to create some new technology in this field. Hoping for more thoughtful discussions moving forward.\", 'toxicity': 0.0, 'severe_toxicity': 0.0, 'obscene': 0.0, 'threat': 0.0, 'insult': 0.0, 'identity_attack': 0.0, 'sexual_explicit': 0.0}, {'text': \"Why bother writing a review if it's going to be this devoid of content?  I understand that you work for WW. (but that hardly seems like an excuse when Fred Armisen recorded radio voices for Grand Theft Auto IV with the same number of people.)\", 'toxicity': 0.0, 'severe_toxicity': 0.0, 'obscene': 0.0, 'threat': 0.0, 'insult': 0.0, 'identity_attack': 0.0, 'sexual_explicit': 0.0}, {'text': \"Yet call out all Muslims for the acts of a few will get you pilloried.   So why is it okay to smear an entire religion over these few idiots?  Or is this because it's okay to bash Christian sects?\", 'toxicity': 0.9125000238418579, 'severe_toxicity': 0.05000000074505806, 'obscene': 0.23749999701976776, 'threat': 0.11249999701976776, 'insult': 0.887499988079071, 'identity_attack': 0.612500011920929, 'sexual_explicit': 0.0}, {'text': \"I love the idea of upvoting entire articles, though this would have to be something that the Publisher could turn on and off. We do have a ton of other features currently in the works—following (and blocking!) other users, bookmarking articles during the review process, to read later (I find myself wanting to read the articles that other people are commenting on, as I'm reviewing their comments!), following conversations, and so much more. Thanks for your enthusiasm, Melinda, and your patience! It's a brand-new way to approach comments, and we're going to continue to improve it. We welcome all suggestions and feedback!\", 'toxicity': 0.0, 'severe_toxicity': 0.0, 'obscene': 0.0, 'threat': 0.0, 'insult': 0.0, 'identity_attack': 0.0, 'sexual_explicit': 0.0}, {'text': 'Troll free since 2016.', 'toxicity': 0.0, 'severe_toxicity': 0.0, 'obscene': 0.0, 'threat': 0.0, 'insult': 0.0, 'identity_attack': 0.0, 'sexual_explicit': 0.0}, {'text': 'This bitch is nuts. Who would read a book by a woman.', 'toxicity': 0.8307692408561707, 'severe_toxicity': 0.10769230872392654, 'obscene': 0.6615384817123413, 'threat': 0.0, 'insult': 0.8307692408561707, 'identity_attack': 0.3384615480899811, 'sexual_explicit': 0.0615384615957737}, {'text': 'Awesome!', 'toxicity': 0.0, 'severe_toxicity': 0.0, 'obscene': 0.0, 'threat': 0.0, 'insult': 0.0, 'identity_attack': 0.0, 'sexual_explicit': 0.0}, {'text': 'Not for long!  \\n\\n(Troll-In-Training since 2016)', 'toxicity': 0.0, 'severe_toxicity': 0.0, 'obscene': 0.0, 'threat': 0.0, 'insult': 0.0, 'identity_attack': 0.0, 'sexual_explicit': 0.0}, {'text': 'Commenting for the sake of commenting to rate other comments to better comment on our new comment system.', 'toxicity': 0.0, 'severe_toxicity': 0.0, 'obscene': 0.0, 'threat': 0.0, 'insult': 0.0, 'identity_attack': 0.0, 'sexual_explicit': 0.0}, {'text': 'Interesting concept.\\n\\nHow does Civil Comments plan to monetize their operation?', 'toxicity': 0.0, 'severe_toxicity': 0.0, 'obscene': 0.0, 'threat': 0.0, 'insult': 0.0, 'identity_attack': 0.0, 'sexual_explicit': 0.0}, {'text': \"Pity the menu lost so much vegan food! The Mash Tun was a favorite beer bar for all the delicious tempeh stuff.\\nExcited the staff is still there, can't wait to try the new beers.\", 'toxicity': 0.1666666716337204, 'severe_toxicity': 0.0, 'obscene': 0.0, 'threat': 0.1666666716337204, 'insult': 0.0, 'identity_attack': 0.0, 'sexual_explicit': 0.0}, {'text': 'I already see dozens of \"just commenting to vote on comments to be able to comment\" type of comments.\\n\\nThis voting system is completely insane- you\\'re assuming people have the extra time to *actually read* multiple non related comments?\\n\\nI would love to see this system installed on oregonlive.com - they have enough online visitors and an established \"troll\" base to really need this service.\\n\\nWith as little online activity as wweek has - it will discourage further growth here.', 'toxicity': 0.0, 'severe_toxicity': 0.0, 'obscene': 0.0, 'threat': 0.0, 'insult': 0.0, 'identity_attack': 0.0, 'sexual_explicit': 0.0}, {'text': 'Very cool project!', 'toxicity': 0.0, 'severe_toxicity': 0.0, 'obscene': 0.0, 'threat': 0.0, 'insult': 0.0, 'identity_attack': 0.0, 'sexual_explicit': 0.0}, {'text': 'Awesome! Signed up just to give this a shot... good luck to your enterprise!', 'toxicity': 0.0, 'severe_toxicity': 0.0, 'obscene': 0.0, 'threat': 0.0, 'insult': 0.0, 'identity_attack': 0.0, 'sexual_explicit': 0.0}, {'text': 'disqus has way more functionality and obviously a huge following - it can increase visitor count significantly.\\n\\ndisqus also has a moderator feature - a feature that wweek either never wanted to pay their staff to undertake, or never developed a group of people they could trust to do it on their behalf on a volunteer basis.', 'toxicity': 0.0, 'severe_toxicity': 0.0, 'obscene': 0.0, 'threat': 0.0, 'insult': 0.0, 'identity_attack': 0.0, 'sexual_explicit': 0.0}, {'text': 'YET ANOTHER BARACK OBAMA LIBERAL MEDIA CONSPIRACY BY THE THOUGHT CONTROL POLICE. I DIDENT SPEND 30 YEARS MIXING CONCRETE TO LET AMERICA FALL TO THE COMMIES. THE TAXES HERE ARE SO HIGH I CANT EVEN AFFORD A KEYBOARD WITH A WORKING CAPS LOCK. PORTLAND HAS BEEN GOING DOWNHILL FOR YEARS, NO WONDER THE TEA PARTY IS MAKING A COMEBACK. WHATS NEXT FLOURAIDE IN THE WATER SUPPLY?', 'toxicity': 0.1666666716337204, 'severe_toxicity': 0.0, 'obscene': 0.0, 'threat': 0.0, 'insult': 0.1666666716337204, 'identity_attack': 0.0, 'sexual_explicit': 0.0}, {'text': \"I haven't seen the kind of comments you're mentioning. I'm interested in where this system works and where it's having problems. Do you have a link you could share that has comments like you mentioned?\", 'toxicity': 0.0, 'severe_toxicity': 0.0, 'obscene': 0.0, 'threat': 0.0, 'insult': 0.0, 'identity_attack': 0.0, 'sexual_explicit': 0.0}, {'text': \"I'm crazy about that illustration! I never would have thought to pitch everything so yellow and orange.\", 'toxicity': 0.20000000298023224, 'severe_toxicity': 0.0, 'obscene': 0.0, 'threat': 0.0, 'insult': 0.20000000298023224, 'identity_attack': 0.0, 'sexual_explicit': 0.0}, {'text': 'wmcelha, there are several new and exciting vegan and gluten free options on the new menu!  Buffalo tostones are a fun, vegan, gluten free, soy free option.  Not to mention a killer new veggie burger, vegan tacos, and several nice salads.  Hope to see you there soon!', 'toxicity': 0.0, 'severe_toxicity': 0.0, 'obscene': 0.0, 'threat': 0.0, 'insult': 0.0, 'identity_attack': 0.0, 'sexual_explicit': 0.0}, {'text': 'Thank you, thank you, thank you! I love WW content but the comment section has polluted for far too long. The lack of community moderation gave a loud megaphone to a small number of right wing trolls.', 'toxicity': 0.20000000298023224, 'severe_toxicity': 0.0, 'obscene': 0.0, 'threat': 0.0, 'insult': 0.20000000298023224, 'identity_attack': 0.10000000149011612, 'sexual_explicit': 0.0}, {'text': 'Probably because they consistently waste funds on trendy projects like green bike boxes -- which cost a fortune and have to be repainted every couple of years.  Oy.', 'toxicity': 0.0, 'severe_toxicity': 0.0, 'obscene': 0.0, 'threat': 0.0, 'insult': 0.0, 'identity_attack': 0.0, 'sexual_explicit': 0.0}, {'text': 'The system is set up so if traffic is slow, an algorithm takes over until it picks up.', 'toxicity': 0.0, 'severe_toxicity': 0.0, 'obscene': 0.0, 'threat': 0.0, 'insult': 0.0, 'identity_attack': 0.0, 'sexual_explicit': 0.0}, {'text': 'Because the people who drive cars more are the ones who cause more wear and tear on the roads?  Pretty fair and straightforward.', 'toxicity': 0.0, 'severe_toxicity': 0.0, 'obscene': 0.0, 'threat': 0.0, 'insult': 0.0, 'identity_attack': 0.0, 'sexual_explicit': 0.0}, {'text': 'Affordable housing gets built pursuant to tax #3, immediately becomes less affordable pursuant to tax #2.  Brilliant!', 'toxicity': 0.0, 'severe_toxicity': 0.0, 'obscene': 0.0, 'threat': 0.0, 'insult': 0.0, 'identity_attack': 0.0, 'sexual_explicit': 0.0}, {'text': \"Tried this out on another post.  Having to rate three other comments and then my own - is the lead designer a big Foucault fan?  Feels like panopticomments.\\n\\nI suspect you won't go back, but I prefer Disqus because of the ubiquity and notifications system.\", 'toxicity': 0.0, 'severe_toxicity': 0.0, 'obscene': 0.0, 'threat': 0.0, 'insult': 0.0, 'identity_attack': 0.0, 'sexual_explicit': 0.0}, {'text': '\"winning arguments against any member of diversity\"\\n\\nYou may have inadvertently given Civil Comments an idea for the 2.0 version of their system.\\n\\n1. Is this a good comment?\\n\\n2. Is this comment civil?\\n\\n3. Did this comment totally just win the argument???', 'toxicity': 0.0, 'severe_toxicity': 0.0, 'obscene': 0.0, 'threat': 0.0, 'insult': 0.0, 'identity_attack': 0.0, 'sexual_explicit': 0.0}, {'text': \"I had a little trouble getting signed up, but after a brief email exchange with the folks at Civil everything appears to be working now.  If they're successful in their goal, I'll be extremely pleased.\", 'toxicity': 0.0, 'severe_toxicity': 0.0, 'obscene': 0.0, 'threat': 0.0, 'insult': 0.0, 'identity_attack': 0.0, 'sexual_explicit': 0.0}, {'text': 'Are you taxed as a resident of the state you were in when you bought the ticket, or as a resident of the state you are in when you claim the ticket?\\n\\nIf it\\'s the latter, I suppose a theoretical lucky Oregonian will have to decide whether it\\'s worth $90m in exchange for being stuck with the hated \"Californian\" moniker.', 'toxicity': 0.0, 'severe_toxicity': 0.0, 'obscene': 0.0, 'threat': 0.0, 'insult': 0.0, 'identity_attack': 0.0, 'sexual_explicit': 0.0}, {'text': \"The letter writing campaign to get livestock off of Malheur Refuge started in the late '70's. The death threat phoned in to Nancy and Denzel's home was in 1979; along with two other friends I was hired a bodyguard to help protect N&D that weekend. The Hammond's ejection of the Ferguson's from the Diamond Dance was the year or two before the death threat. Great article WW and Jim D. For the last 10 days, lots of us have been wishing we could hear Denzel make witty quips about the Bundycon's occupation of the refuge hq. Sacred Cows at the public trough is easy to get on Amazon. Read and learn, read and learn ... great history of western livestock abuses ...\", 'toxicity': 0.0, 'severe_toxicity': 0.0, 'obscene': 0.0, 'threat': 0.0, 'insult': 0.0, 'identity_attack': 0.0, 'sexual_explicit': 0.0}, {'text': 'Mormons have had a complicated relationship with federal law.', 'toxicity': 0.30000001192092896, 'severe_toxicity': 0.0, 'obscene': 0.0, 'threat': 0.0, 'insult': 0.0, 'identity_attack': 0.30000001192092896, 'sexual_explicit': 0.0}, {'text': 'Send more dildos, STAT.', 'toxicity': 0.3611111044883728, 'severe_toxicity': 0.0416666679084301, 'obscene': 0.0833333358168602, 'threat': 0.0, 'insult': 0.0416666679084301, 'identity_attack': 0.0, 'sexual_explicit': 0.3888888955116272}, {'text': \"I've been loosely following Civil Comments since it was announced late last year; I even tried a beta demonstration. One thing I've been wondering is: will users will have to sign up for new profiles on any site that uses Civil, or do you have one Civil profile that you'd use on any partner site?\", 'toxicity': 0.0, 'severe_toxicity': 0.0, 'obscene': 0.0, 'threat': 0.0, 'insult': 0.0, 'identity_attack': 0.0, 'sexual_explicit': 0.0}, {'text': \"My sign-up just now couldn't have been smoother!\", 'toxicity': 0.0, 'severe_toxicity': 0.0, 'obscene': 0.0, 'threat': 0.0, 'insult': 0.0, 'identity_attack': 0.0, 'sexual_explicit': 0.0}, {'text': \"I couldn't be more pleased. Comments on many sites too often get overtaken by trolls. It's the first I've heard of Civil, but I like its intent and encourage other publications in town to consider comments as a platform for engagement rather than a troll-driven click driver intended to boost online ad rates.\", 'toxicity': 0.30000001192092896, 'severe_toxicity': 0.0, 'obscene': 0.0, 'threat': 0.0, 'insult': 0.30000001192092896, 'identity_attack': 0.0, 'sexual_explicit': 0.0}, {'text': \"Thanks so much for following our progress and helping to test the software, David! To answer your question: you'll have one over-arching Civil account where you can manage different profiles for different sites. Of course, you're welcome to use the same information across all sites! We decided that it'd be best to be able to present yourself differently to different communities, though. I might, for example, want to be portland_hipster15 here on Willamette Week, but prefer to be MrWhiskers on Cat Enthusiast Digest!\", 'toxicity': 0.0, 'severe_toxicity': 0.0, 'obscene': 0.0, 'threat': 0.0, 'insult': 0.0, 'identity_attack': 0.0, 'sexual_explicit': 0.0}]\n"
     ]
    },
    {
     "name": "stderr",
     "output_type": "stream",
     "text": [
      "\n"
     ]
    },
    {
     "ename": "KeyError",
     "evalue": "'continuation'",
     "output_type": "error",
     "traceback": [
      "\u001b[0;31m---------------------------------------------------------------------------\u001b[0m",
      "\u001b[0;31mKeyError\u001b[0m                                  Traceback (most recent call last)",
      "Cell \u001b[0;32mIn[32], line 25\u001b[0m\n\u001b[1;32m     23\u001b[0m \u001b[38;5;28;01mfor\u001b[39;00m e \u001b[38;5;129;01min\u001b[39;00m \u001b[38;5;28mrange\u001b[39m(epochs):\n\u001b[1;32m     24\u001b[0m     epoch_loss \u001b[38;5;241m=\u001b[39m \u001b[38;5;241m0\u001b[39m\n\u001b[0;32m---> 25\u001b[0m \u001b[43m    \u001b[49m\u001b[38;5;28;43;01mfor\u001b[39;49;00m\u001b[43m \u001b[49m\u001b[43mybatch\u001b[49m\u001b[43m,\u001b[49m\u001b[43m \u001b[49m\u001b[43mxbatch\u001b[49m\u001b[43m \u001b[49m\u001b[38;5;129;43;01min\u001b[39;49;00m\u001b[43m \u001b[49m\u001b[43mtqdm\u001b[49m\u001b[43m(\u001b[49m\u001b[38;5;28;43mzip\u001b[39;49m\u001b[43m(\u001b[49m\u001b[43mydl\u001b[49m\u001b[43m,\u001b[49m\u001b[43m \u001b[49m\u001b[43mXdl\u001b[49m\u001b[43m)\u001b[49m\u001b[43m,\u001b[49m\u001b[43m \u001b[49m\u001b[43mtotal\u001b[49m\u001b[43m \u001b[49m\u001b[38;5;241;43m=\u001b[39;49m\u001b[43m \u001b[49m\u001b[38;5;28;43mlen\u001b[39;49m\u001b[43m(\u001b[49m\u001b[43mydl\u001b[49m\u001b[43m)\u001b[49m\u001b[43m,\u001b[49m\u001b[43m \u001b[49m\u001b[43mleave\u001b[49m\u001b[38;5;241;43m=\u001b[39;49m\u001b[38;5;28;43;01mTrue\u001b[39;49;00m\u001b[43m,\u001b[49m\u001b[43m \u001b[49m\u001b[43mdesc\u001b[49m\u001b[38;5;241;43m=\u001b[39;49m\u001b[38;5;124;43mf\u001b[39;49m\u001b[38;5;124;43m\"\u001b[39;49m\u001b[38;5;124;43mEpoch: \u001b[39;49m\u001b[38;5;132;43;01m{\u001b[39;49;00m\u001b[43me\u001b[49m\u001b[38;5;132;43;01m}\u001b[39;49;00m\u001b[38;5;124;43m\"\u001b[39;49m\u001b[43m)\u001b[49m\u001b[43m:\u001b[49m\n\u001b[1;32m     26\u001b[0m \u001b[43m        \u001b[49m\u001b[43moptimizer\u001b[49m\u001b[38;5;241;43m.\u001b[39;49m\u001b[43mzero_grad\u001b[49m\u001b[43m(\u001b[49m\u001b[43m)\u001b[49m\n\u001b[1;32m     27\u001b[0m \u001b[43m        \u001b[49m\u001b[43mfwd\u001b[49m\u001b[43m \u001b[49m\u001b[38;5;241;43m=\u001b[39;49m\u001b[43m \u001b[49m\u001b[43mmodel\u001b[49m\u001b[43m(\u001b[49m\u001b[43mxbatch\u001b[49m\u001b[43m)\u001b[49m\n",
      "File \u001b[0;32m~/miniconda3/envs/latent_explr_env/lib/python3.12/site-packages/tqdm/std.py:1181\u001b[0m, in \u001b[0;36mtqdm.__iter__\u001b[0;34m(self)\u001b[0m\n\u001b[1;32m   1178\u001b[0m time \u001b[38;5;241m=\u001b[39m \u001b[38;5;28mself\u001b[39m\u001b[38;5;241m.\u001b[39m_time\n\u001b[1;32m   1180\u001b[0m \u001b[38;5;28;01mtry\u001b[39;00m:\n\u001b[0;32m-> 1181\u001b[0m \u001b[43m    \u001b[49m\u001b[38;5;28;43;01mfor\u001b[39;49;00m\u001b[43m \u001b[49m\u001b[43mobj\u001b[49m\u001b[43m \u001b[49m\u001b[38;5;129;43;01min\u001b[39;49;00m\u001b[43m \u001b[49m\u001b[43miterable\u001b[49m\u001b[43m:\u001b[49m\n\u001b[1;32m   1182\u001b[0m \u001b[43m        \u001b[49m\u001b[38;5;28;43;01myield\u001b[39;49;00m\u001b[43m \u001b[49m\u001b[43mobj\u001b[49m\n\u001b[1;32m   1183\u001b[0m \u001b[43m        \u001b[49m\u001b[38;5;66;43;03m# Update and possibly print the progressbar.\u001b[39;49;00m\n\u001b[1;32m   1184\u001b[0m \u001b[43m        \u001b[49m\u001b[38;5;66;43;03m# Note: does not call self.update(1) for speed optimisation.\u001b[39;49;00m\n",
      "File \u001b[0;32m~/miniconda3/envs/latent_explr_env/lib/python3.12/site-packages/torch/utils/data/dataloader.py:631\u001b[0m, in \u001b[0;36m_BaseDataLoaderIter.__next__\u001b[0;34m(self)\u001b[0m\n\u001b[1;32m    628\u001b[0m \u001b[38;5;28;01mif\u001b[39;00m \u001b[38;5;28mself\u001b[39m\u001b[38;5;241m.\u001b[39m_sampler_iter \u001b[38;5;129;01mis\u001b[39;00m \u001b[38;5;28;01mNone\u001b[39;00m:\n\u001b[1;32m    629\u001b[0m     \u001b[38;5;66;03m# TODO(https://github.com/pytorch/pytorch/issues/76750)\u001b[39;00m\n\u001b[1;32m    630\u001b[0m     \u001b[38;5;28mself\u001b[39m\u001b[38;5;241m.\u001b[39m_reset()  \u001b[38;5;66;03m# type: ignore[call-arg]\u001b[39;00m\n\u001b[0;32m--> 631\u001b[0m data \u001b[38;5;241m=\u001b[39m \u001b[38;5;28;43mself\u001b[39;49m\u001b[38;5;241;43m.\u001b[39;49m\u001b[43m_next_data\u001b[49m\u001b[43m(\u001b[49m\u001b[43m)\u001b[49m\n\u001b[1;32m    632\u001b[0m \u001b[38;5;28mself\u001b[39m\u001b[38;5;241m.\u001b[39m_num_yielded \u001b[38;5;241m+\u001b[39m\u001b[38;5;241m=\u001b[39m \u001b[38;5;241m1\u001b[39m\n\u001b[1;32m    633\u001b[0m \u001b[38;5;28;01mif\u001b[39;00m \u001b[38;5;28mself\u001b[39m\u001b[38;5;241m.\u001b[39m_dataset_kind \u001b[38;5;241m==\u001b[39m _DatasetKind\u001b[38;5;241m.\u001b[39mIterable \u001b[38;5;129;01mand\u001b[39;00m \\\n\u001b[1;32m    634\u001b[0m         \u001b[38;5;28mself\u001b[39m\u001b[38;5;241m.\u001b[39m_IterableDataset_len_called \u001b[38;5;129;01mis\u001b[39;00m \u001b[38;5;129;01mnot\u001b[39;00m \u001b[38;5;28;01mNone\u001b[39;00m \u001b[38;5;129;01mand\u001b[39;00m \\\n\u001b[1;32m    635\u001b[0m         \u001b[38;5;28mself\u001b[39m\u001b[38;5;241m.\u001b[39m_num_yielded \u001b[38;5;241m>\u001b[39m \u001b[38;5;28mself\u001b[39m\u001b[38;5;241m.\u001b[39m_IterableDataset_len_called:\n",
      "File \u001b[0;32m~/miniconda3/envs/latent_explr_env/lib/python3.12/site-packages/torch/utils/data/dataloader.py:675\u001b[0m, in \u001b[0;36m_SingleProcessDataLoaderIter._next_data\u001b[0;34m(self)\u001b[0m\n\u001b[1;32m    673\u001b[0m \u001b[38;5;28;01mdef\u001b[39;00m \u001b[38;5;21m_next_data\u001b[39m(\u001b[38;5;28mself\u001b[39m):\n\u001b[1;32m    674\u001b[0m     index \u001b[38;5;241m=\u001b[39m \u001b[38;5;28mself\u001b[39m\u001b[38;5;241m.\u001b[39m_next_index()  \u001b[38;5;66;03m# may raise StopIteration\u001b[39;00m\n\u001b[0;32m--> 675\u001b[0m     data \u001b[38;5;241m=\u001b[39m \u001b[38;5;28;43mself\u001b[39;49m\u001b[38;5;241;43m.\u001b[39;49m\u001b[43m_dataset_fetcher\u001b[49m\u001b[38;5;241;43m.\u001b[39;49m\u001b[43mfetch\u001b[49m\u001b[43m(\u001b[49m\u001b[43mindex\u001b[49m\u001b[43m)\u001b[49m  \u001b[38;5;66;03m# may raise StopIteration\u001b[39;00m\n\u001b[1;32m    676\u001b[0m     \u001b[38;5;28;01mif\u001b[39;00m \u001b[38;5;28mself\u001b[39m\u001b[38;5;241m.\u001b[39m_pin_memory:\n\u001b[1;32m    677\u001b[0m         data \u001b[38;5;241m=\u001b[39m _utils\u001b[38;5;241m.\u001b[39mpin_memory\u001b[38;5;241m.\u001b[39mpin_memory(data, \u001b[38;5;28mself\u001b[39m\u001b[38;5;241m.\u001b[39m_pin_memory_device)\n",
      "File \u001b[0;32m~/miniconda3/envs/latent_explr_env/lib/python3.12/site-packages/torch/utils/data/_utils/fetch.py:54\u001b[0m, in \u001b[0;36m_MapDatasetFetcher.fetch\u001b[0;34m(self, possibly_batched_index)\u001b[0m\n\u001b[1;32m     52\u001b[0m \u001b[38;5;28;01melse\u001b[39;00m:\n\u001b[1;32m     53\u001b[0m     data \u001b[38;5;241m=\u001b[39m \u001b[38;5;28mself\u001b[39m\u001b[38;5;241m.\u001b[39mdataset[possibly_batched_index]\n\u001b[0;32m---> 54\u001b[0m \u001b[38;5;28;01mreturn\u001b[39;00m \u001b[38;5;28;43mself\u001b[39;49m\u001b[38;5;241;43m.\u001b[39;49m\u001b[43mcollate_fn\u001b[49m\u001b[43m(\u001b[49m\u001b[43mdata\u001b[49m\u001b[43m)\u001b[49m\n",
      "Cell \u001b[0;32mIn[19], line 8\u001b[0m, in \u001b[0;36mget_y\u001b[0;34m(datum)\u001b[0m\n\u001b[1;32m      6\u001b[0m \u001b[38;5;250m\u001b[39m\u001b[38;5;124;03m\"\"\"returns rtp signal: bsize x 8\"\"\"\u001b[39;00m\n\u001b[1;32m      7\u001b[0m \u001b[38;5;28mprint\u001b[39m(datum)\n\u001b[0;32m----> 8\u001b[0m cont \u001b[38;5;241m=\u001b[39m [\u001b[43md\u001b[49m\u001b[43m[\u001b[49m\u001b[38;5;124;43m'\u001b[39;49m\u001b[38;5;124;43mcontinuation\u001b[39;49m\u001b[38;5;124;43m'\u001b[39;49m\u001b[43m]\u001b[49m \u001b[38;5;28;01mfor\u001b[39;00m d \u001b[38;5;129;01min\u001b[39;00m datum]\n\u001b[1;32m      9\u001b[0m \u001b[38;5;28;01mreturn\u001b[39;00m torch\u001b[38;5;241m.\u001b[39mtensor(np\u001b[38;5;241m.\u001b[39mnan_to_num(np\u001b[38;5;241m.\u001b[39marray([\u001b[38;5;28mlist\u001b[39m(l\u001b[38;5;241m.\u001b[39mvalues())[\u001b[38;5;241m1\u001b[39m:] \u001b[38;5;28;01mfor\u001b[39;00m l \u001b[38;5;129;01min\u001b[39;00m cont], dtype\u001b[38;5;241m=\u001b[39mnp\u001b[38;5;241m.\u001b[39mfloat64)), dtype\u001b[38;5;241m=\u001b[39mtorch\u001b[38;5;241m.\u001b[39mfloat64)\n",
      "\u001b[0;31mKeyError\u001b[0m: 'continuation'"
     ]
    }
   ],
   "source": [
    "# lets put it all together:\n",
    "# wandb.init(project=\"deepGenTest\")\n",
    "hdim, odim, bsize, epochs, grad_accm_steps = 100, 8, 64, 10, 1\n",
    "model = torch.nn.Sequential(\n",
    "    torch.nn.Linear(hdim, hdim),\n",
    "    torch.nn.BatchNorm1d(hdim),\n",
    "    torch.nn.Dropout(0.2),\n",
    "    torch.nn.GELU(),\n",
    "\n",
    "    \n",
    "    torch.nn.Linear(hdim, 2*hdim),\n",
    "    torch.nn.BatchNorm1d(2*hdim),\n",
    "    torch.nn.GELU(),\n",
    "\n",
    "    torch.nn.Linear(2*hdim, 4*hdim),\n",
    "    torch.nn.BatchNorm1d(4*hdim),\n",
    "    torch.nn.Dropout(0.2),\n",
    "    torch.nn.GELU(),\n",
    "\n",
    "    torch.nn.Linear(4*hdim, 4*hdim),\n",
    "    torch.nn.BatchNorm1d(4*hdim),\n",
    "    torch.nn.Dropout(0.2),\n",
    "    torch.nn.GELU(),\n",
    "\n",
    "    torch.nn.Linear(4*hdim, 4*hdim),\n",
    "    torch.nn.BatchNorm1d(4*hdim),\n",
    "    torch.nn.Dropout(0.2),\n",
    "    torch.nn.GELU(),\n",
    "\n",
    "\n",
    "    torch.nn.Linear(4*hdim, 2*hdim),\n",
    "    torch.nn.BatchNorm1d(2*hdim),\n",
    "    torch.nn.GELU(),\n",
    "\n",
    "    torch.nn.Linear(2*hdim, hdim),\n",
    "    torch.nn.BatchNorm1d(hdim),\n",
    "    torch.nn.GELU(),\n",
    "\n",
    "    torch.nn.Linear(hdim, 100),\n",
    "    torch.nn.GELU(),\n",
    "    torch.nn.Linear(100, odim)\n",
    ")\n",
    "optimizer = torch.optim.AdamW(model.parameters(), lr=0.1, weight_decay=0)\n",
    "loss_fn = torch.nn.CrossEntropyLoss()\n",
    "Xdata = randomDataset(dataset)\n",
    "ydl = torch.utils.data.dataloader.DataLoader(dataset, batch_size=bsize, shuffle=False, collate_fn=get_y)\n",
    "Xdl = torch.utils.data.dataloader.DataLoader(embeddings_dataset, bsize, shuffle=False)\n",
    "\n",
    "for e in range(epochs):\n",
    "    epoch_loss = 0\n",
    "    for ybatch, xbatch in tqdm(zip(ydl, Xdl), total = len(ydl), leave=True, desc=f\"Epoch: {e}\"):\n",
    "        optimizer.zero_grad()\n",
    "        fwd = model(xbatch)\n",
    "        loss = loss_fn(fwd, ybatch)\n",
    "        loss.backward()\n",
    "        optimizer.step()\n",
    "        # wandb.log({\"batch_loss\" : loss.item()})\n",
    "        epoch_loss += loss.item()\n",
    "    # wandb.log({\"epoch_loss\" : epoch_loss})\n",
    "    print(f\"with loss: {epoch_loss}\")\n",
    "    "
   ]
  },
  {
   "cell_type": "code",
   "execution_count": null,
   "id": "a12b78be-7972-411d-9b1a-286660f8d839",
   "metadata": {},
   "outputs": [],
   "source": []
  },
  {
   "cell_type": "markdown",
   "id": "73a700d0-6565-4393-8837-57c6bd12dcc0",
   "metadata": {},
   "source": [
    "# Lets do this for civil_chat"
   ]
  },
  {
   "cell_type": "code",
   "execution_count": 13,
   "id": "0e383704-0b29-4beb-b407-7a8ffa4edbf9",
   "metadata": {},
   "outputs": [],
   "source": [
    "civil = load_dataset(\"google/civil_comments\")"
   ]
  },
  {
   "cell_type": "code",
   "execution_count": 23,
   "id": "d88d1b17-c98c-46e2-95a1-da447f7c1147",
   "metadata": {},
   "outputs": [
    {
     "data": {
      "text/plain": [
       "3"
      ]
     },
     "execution_count": 23,
     "metadata": {},
     "output_type": "execute_result"
    }
   ],
   "source": [
    "len(civil)"
   ]
  },
  {
   "cell_type": "code",
   "execution_count": 24,
   "id": "9fcf06ee-d67f-461a-ad93-85add94e6619",
   "metadata": {},
   "outputs": [
    {
     "data": {
      "text/plain": [
       "'train'"
      ]
     },
     "execution_count": 24,
     "metadata": {},
     "output_type": "execute_result"
    }
   ],
   "source": [
    "next(iter(civil))"
   ]
  },
  {
   "cell_type": "code",
   "execution_count": 25,
   "id": "0b7cd44a-5f4a-4c42-a5c3-fa32c49654c8",
   "metadata": {},
   "outputs": [
    {
     "name": "stdout",
     "output_type": "stream",
     "text": [
      "1804874\n",
      "97320\n",
      "97320\n"
     ]
    }
   ],
   "source": [
    "for k in civil.keys():\n",
    "    print(len(civil[k]))"
   ]
  },
  {
   "cell_type": "code",
   "execution_count": 26,
   "id": "51115e66-43c2-4394-ad1a-f3ad63fd5856",
   "metadata": {},
   "outputs": [
    {
     "data": {
      "text/plain": [
       "{'text': \"This is so cool. It's like, 'would you want your mother to read this??' Really great idea, well done!\",\n",
       " 'toxicity': 0.0,\n",
       " 'severe_toxicity': 0.0,\n",
       " 'obscene': 0.0,\n",
       " 'threat': 0.0,\n",
       " 'insult': 0.0,\n",
       " 'identity_attack': 0.0,\n",
       " 'sexual_explicit': 0.0}"
      ]
     },
     "execution_count": 26,
     "metadata": {},
     "output_type": "execute_result"
    }
   ],
   "source": [
    "next(iter(civil['train']))"
   ]
  },
  {
   "cell_type": "code",
   "execution_count": 14,
   "id": "15ed3fd6-d62b-4311-a543-71664a6a7cc8",
   "metadata": {},
   "outputs": [],
   "source": [
    "def civil_collate(datum):\n",
    "    return torch.tensor(np.nan_to_num(np.array([list(l.values())[1:] for l in datum], dtype=np.float64)), dtype=torch.float64)"
   ]
  },
  {
   "cell_type": "code",
   "execution_count": 28,
   "id": "01740f13-c62a-4188-a4a1-346e15013454",
   "metadata": {},
   "outputs": [
    {
     "data": {
      "text/plain": [
       "tensor([[0., 0., 0., 0., 0., 0., 0.]], dtype=torch.float64)"
      ]
     },
     "execution_count": 28,
     "metadata": {},
     "output_type": "execute_result"
    }
   ],
   "source": [
    "civil_collate([next(iter(civil['train']))])"
   ]
  },
  {
   "cell_type": "code",
   "execution_count": 17,
   "id": "154508af",
   "metadata": {},
   "outputs": [],
   "source": [
    "import wandb"
   ]
  },
  {
   "cell_type": "code",
   "execution_count": 18,
   "id": "3e73b4ae",
   "metadata": {},
   "outputs": [
    {
     "name": "stderr",
     "output_type": "stream",
     "text": [
      "Failed to detect the name of this notebook, you can set it manually with the WANDB_NOTEBOOK_NAME environment variable to enable code saving.\n",
      "\u001b[34m\u001b[1mwandb\u001b[0m: Currently logged in as: \u001b[33mjdannemi\u001b[0m (\u001b[33mdeepest-learning-team\u001b[0m). Use \u001b[1m`wandb login --relogin`\u001b[0m to force relogin\n",
      "\u001b[34m\u001b[1mwandb\u001b[0m: \u001b[33mWARNING\u001b[0m If you're specifying your api key in code, ensure this code is not shared publicly.\n",
      "\u001b[34m\u001b[1mwandb\u001b[0m: \u001b[33mWARNING\u001b[0m Consider setting the WANDB_API_KEY environment variable, or running `wandb login` from the command line.\n",
      "\u001b[34m\u001b[1mwandb\u001b[0m: Appending key for api.wandb.ai to your netrc file: /home/jdannemi/.netrc\n"
     ]
    },
    {
     "data": {
      "text/plain": [
       "True"
      ]
     },
     "execution_count": 18,
     "metadata": {},
     "output_type": "execute_result"
    }
   ],
   "source": [
    "wandb.login(key=\"0a43ac008e0a75d36e8607a63179fe016933177b\")"
   ]
  },
  {
   "cell_type": "code",
   "execution_count": 22,
   "id": "54c1816c",
   "metadata": {},
   "outputs": [
    {
     "data": {
      "text/html": [
       "Tracking run with wandb version 0.16.6"
      ],
      "text/plain": [
       "<IPython.core.display.HTML object>"
      ]
     },
     "metadata": {},
     "output_type": "display_data"
    },
    {
     "data": {
      "text/html": [
       "Run data is saved locally in <code>/home/jdannemi/Documents/Carnegie_Mellon_University/DeepGenerativeModeling/Project/deepGenProj/wandb/run-20240418_204703-omml7lqu</code>"
      ],
      "text/plain": [
       "<IPython.core.display.HTML object>"
      ]
     },
     "metadata": {},
     "output_type": "display_data"
    },
    {
     "data": {
      "text/html": [
       "Syncing run <strong><a href='https://wandb.ai/deepest-learning-team/DeepGenProject/runs/omml7lqu' target=\"_blank\">first_DNN_regression_model</a></strong> to <a href='https://wandb.ai/deepest-learning-team/DeepGenProject' target=\"_blank\">Weights & Biases</a> (<a href='https://wandb.me/run' target=\"_blank\">docs</a>)<br/>"
      ],
      "text/plain": [
       "<IPython.core.display.HTML object>"
      ]
     },
     "metadata": {},
     "output_type": "display_data"
    },
    {
     "data": {
      "text/html": [
       " View project at <a href='https://wandb.ai/deepest-learning-team/DeepGenProject' target=\"_blank\">https://wandb.ai/deepest-learning-team/DeepGenProject</a>"
      ],
      "text/plain": [
       "<IPython.core.display.HTML object>"
      ]
     },
     "metadata": {},
     "output_type": "display_data"
    },
    {
     "data": {
      "text/html": [
       " View run at <a href='https://wandb.ai/deepest-learning-team/DeepGenProject/runs/omml7lqu' target=\"_blank\">https://wandb.ai/deepest-learning-team/DeepGenProject/runs/omml7lqu</a>"
      ],
      "text/plain": [
       "<IPython.core.display.HTML object>"
      ]
     },
     "metadata": {},
     "output_type": "display_data"
    }
   ],
   "source": [
    "\n",
    "run = wandb.init(\n",
    "    name = \"first_DNN_regression_model\",\n",
    "    reinit=True,\n",
    "    # id= \"\",\n",
    "    # resume = \"must\",\n",
    "    project = \"DeepGenProject\"\n",
    "    # Create your wandb run\n",
    ")"
   ]
  },
  {
   "cell_type": "code",
   "execution_count": 29,
   "id": "08919aee-4809-47db-9f7f-b6614371ecf2",
   "metadata": {},
   "outputs": [
    {
     "name": "stderr",
     "output_type": "stream",
     "text": [
      "Epoch: 0:   0%|          | 0/7051 [00:00<?, ?it/s]"
     ]
    },
    {
     "name": "stderr",
     "output_type": "stream",
     "text": [
      "Epoch: 0:  14%|█▍        | 971/7051 [02:47<17:32,  5.78it/s]"
     ]
    }
   ],
   "source": [
    "# lets put it all together:\n",
    "# wandb.init(project=\"deepGenTest\")\n",
    "hdim, odim, bsize, epochs, grad_accm_steps = 768, 7, 256, 10, 1\n",
    "model = torch.nn.Sequential(\n",
    "    torch.nn.Linear(hdim, hdim),\n",
    "    torch.nn.BatchNorm1d(hdim),\n",
    "    torch.nn.Dropout(0.2),\n",
    "    torch.nn.GELU(),\n",
    "\n",
    "    \n",
    "    torch.nn.Linear(hdim, 2*hdim),\n",
    "    torch.nn.BatchNorm1d(2*hdim),\n",
    "    torch.nn.GELU(),\n",
    "\n",
    "    torch.nn.Linear(2*hdim, 4*hdim),\n",
    "    torch.nn.BatchNorm1d(4*hdim),\n",
    "    torch.nn.Dropout(0.2),\n",
    "    torch.nn.GELU(),\n",
    "\n",
    "    torch.nn.Linear(4*hdim, 4*hdim),\n",
    "    torch.nn.BatchNorm1d(4*hdim),\n",
    "    torch.nn.Dropout(0.2),\n",
    "    torch.nn.GELU(),\n",
    "\n",
    "    torch.nn.Linear(4*hdim, 4*hdim),\n",
    "    torch.nn.BatchNorm1d(4*hdim),\n",
    "    torch.nn.Dropout(0.2),\n",
    "    torch.nn.GELU(),\n",
    "\n",
    "\n",
    "    torch.nn.Linear(4*hdim, 2*hdim),\n",
    "    torch.nn.BatchNorm1d(2*hdim),\n",
    "    torch.nn.GELU(),\n",
    "\n",
    "    torch.nn.Linear(2*hdim, hdim),\n",
    "    torch.nn.BatchNorm1d(hdim),\n",
    "    torch.nn.GELU(),\n",
    "\n",
    "    torch.nn.Linear(hdim, 100),\n",
    "    torch.nn.GELU(),\n",
    "    torch.nn.Linear(100, odim)\n",
    ")\n",
    "optimizer = torch.optim.AdamW(model.parameters(), lr=0.1, weight_decay=0)\n",
    "loss_fn = torch.nn.CrossEntropyLoss()\n",
    "# Xdata = randomDataset(civil['train'])\n",
    "ydl = torch.utils.data.dataloader.DataLoader(civil['train'], batch_size=bsize, shuffle=False, collate_fn=civil_collate)\n",
    "Xdl = torch.utils.data.dataloader.DataLoader(embeddings_dataset, bsize, shuffle=False)\n",
    "wandb.watch(model, log=\"all\")\n",
    "best_epoch_loss = 0.0\n",
    "for e in range(epochs):\n",
    "    epoch_loss = 0.0\n",
    "    for ybatch, xbatch in tqdm(zip(ydl, Xdl), total = len(ydl), leave=True, desc=f\"Epoch: {e}\"):\n",
    "        i+=1\n",
    "        optimizer.zero_grad()\n",
    "        fwd = model(xbatch)\n",
    "        loss += loss_fn(fwd, ybatch)\n",
    "        if i % 4 == 0:\n",
    "            # every 4 steps:\n",
    "            loss.backward()\n",
    "            optimizer.step()\n",
    "        wandb.log({\"batch_loss\" : loss.item()})\n",
    "        epoch_loss += loss.item()\n",
    "    wandb.log({\"epoch_loss\" : epoch_loss})\n",
    "    print(f\"with loss: {epoch_loss}\")\n",
    "    if epoch_loss < best_epoch_loss:\n",
    "        best_epoch_loss = epoch_loss\n",
    "        torch.save(model.state_dict(), \"best_model.pth\")\n",
    "run.finish()\n",
    "    "
   ]
  },
  {
   "cell_type": "code",
   "execution_count": 27,
   "id": "4a6dd25c-0b58-465f-b3be-1dc8adadfe03",
   "metadata": {},
   "outputs": [
    {
     "data": {
      "text/plain": [
       "torch.Size([64, 7])"
      ]
     },
     "execution_count": 27,
     "metadata": {},
     "output_type": "execute_result"
    }
   ],
   "source": [
    "y = next(iter(ydl))\n",
    "model(next(iter(Xdl))).shape"
   ]
  },
  {
   "cell_type": "code",
   "execution_count": 28,
   "id": "bebad7bb-fb1b-49dd-a4d5-de52e95caf8b",
   "metadata": {},
   "outputs": [
    {
     "data": {
      "text/plain": [
       "torch.Size([64, 7])"
      ]
     },
     "execution_count": 28,
     "metadata": {},
     "output_type": "execute_result"
    }
   ],
   "source": [
    "y.shape"
   ]
  },
  {
   "cell_type": "code",
   "execution_count": null,
   "id": "cc795257-6659-4154-aca7-920e2f476865",
   "metadata": {},
   "outputs": [],
   "source": []
  }
 ],
 "metadata": {
  "kernelspec": {
   "display_name": "Python 3 (ipykernel)",
   "language": "python",
   "name": "python3"
  },
  "language_info": {
   "codemirror_mode": {
    "name": "ipython",
    "version": 3
   },
   "file_extension": ".py",
   "mimetype": "text/x-python",
   "name": "python",
   "nbconvert_exporter": "python",
   "pygments_lexer": "ipython3",
   "version": "3.12.3"
  }
 },
 "nbformat": 4,
 "nbformat_minor": 5
}
